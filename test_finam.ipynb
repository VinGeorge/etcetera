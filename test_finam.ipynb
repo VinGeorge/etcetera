{
 "cells": [
  {
   "cell_type": "markdown",
   "metadata": {},
   "source": [
    "# Вопросы, которые нужно оценить:\n",
    "1.\tКорректность приветствия Да/Нет, где Да=1, Нет=0.\n",
    "2.\tКорректность прощания Да/Нет, где Да=1, Нет=0.\n",
    "3.\tОтсутствие слэнга Да/Нет, где Да=1, Нет=0.\n",
    "4.\tОтсутствие слов паразитов Да/Нет, где Да=1, Нет=0.\n",
    "5.\tПредложение услуг в разговоре Да/Нет, где Да=1, Нет=0.\n",
    "6.\tНазначена ли встреча в разговоре Да/Нет, где Да=1, Нет=0.\n",
    "7.\tДолжен ли быть запланирован следующий звонок Да/Нет, где Да=1, Нет=0.\n",
    "\n",
    "Критерии соответствия для вопросов, все критерии представлены в виде справочников, для данного задания ниже приведены конкретные варианты для проверки:\n",
    "1.\tПриветствие корректно, если оно соответствует формуле\n",
    "Приветственное слово (Добрый день/Здравствуйте) + имя сотрудника + Имя и Отчество клиента \n",
    "2.\tПрощание корректно, если оно содержит минимум 1 прощальное слово (До свидания/Всего доброго)\n",
    "3.\tСлэнговые слова: Облигашка, Денюжки/Денешки\n",
    "4.\tСлова паразиты: Как бы, Соответственно (если повторяется два раза близко друг к другу)\n",
    "5.\tУслуги компании: стратегии, американский рынок, обучение, Transaq, QUIK\n",
    "6.\tВстреча считается назначенной, если в разговоре менеджер обозначает встречу по формуле:\n",
    "Слово «Встреча» + дата и время произнесенные не дальше чем через 7 слов от Встреча\n",
    "7.\tЗвонок должен быть запланирован, если в разговоре менеджер произносит:\n",
    "Вводное слово «Созвонится/Связаться/Созвонимся/Свяжемся» + хотя бы одно слово из «дней/день/недели/недель/месяц» не дальше чем через 3 слова после вводного\n"
   ]
  },
  {
   "cell_type": "code",
   "execution_count": 1,
   "metadata": {
    "collapsed": false
   },
   "outputs": [],
   "source": [
    "def words_to_list(path_file):\n",
    "    words = []\n",
    "    with open (path_file, mode = 'r') as f:\n",
    "        for line in f:\n",
    "            lower_line = line.lower().strip()\n",
    "            new_line = lower_line.split()\n",
    "            [words.append(word) for word in new_line]\n",
    "    return words"
   ]
  },
  {
   "cell_type": "code",
   "execution_count": 2,
   "metadata": {
    "collapsed": false
   },
   "outputs": [],
   "source": [
    "CALL_LOG_LIST = words_to_list('/Users/yvdsd/SandBox/call_log_test.txt')\n",
    "call_log_len = int(len(CALL_LOG_LIST))\n",
    "CLIENT_NAME = ('геннадий', 'александрович')\n",
    "MANAGER_NAME = 'михаил'\n",
    "test_1 = ['добрый', 'день', 'здравствуйте', MANAGER_NAME, CLIENT_NAME]\n",
    "test_2 = ['до', 'свидания', 'всего', 'доброго']\n",
    "test_3 = ['облигашка', 'денюжки', 'денешки']\n",
    "test_4_2 = ['как', 'бы']\n",
    "test_4_1 = ['соответственно']\n",
    "test_5 = ['стратегии', 'американский', 'рынок', 'обучение', 'transaq', 'quik']\n",
    "test_6 = ['встреча', \n",
    "          'понедельник', 'вторник', 'среда', 'четверг', 'пятница', 'суббота', 'воскресенье',\n",
    "          'января', 'февраля', 'марта', 'апреля', 'майя', 'апреля', 'июня', 'июля', 'августа', 'сентября', 'октября', 'ноября', 'декабря'\n",
    "         ]\n",
    "test_7_1 = ['созвонится', 'связаться', 'созвонимся', 'свяжемся']\n",
    "test_7_2 = ['дней', 'день', 'недели', 'недель', 'месяц']"
   ]
  },
  {
   "cell_type": "code",
   "execution_count": 158,
   "metadata": {
    "collapsed": false
   },
   "outputs": [
    {
     "data": {
      "text/plain": [
       "False"
      ]
     },
     "execution_count": 158,
     "metadata": {},
     "output_type": "execute_result"
    }
   ],
   "source": [
    "len(set(CALL_LOG_LIST[:20]) & set(test_1)) >= 4"
   ]
  },
  {
   "cell_type": "code",
   "execution_count": 159,
   "metadata": {
    "collapsed": false
   },
   "outputs": [
    {
     "data": {
      "text/plain": [
       "True"
      ]
     },
     "execution_count": 159,
     "metadata": {},
     "output_type": "execute_result"
    }
   ],
   "source": [
    "len(set(CALL_LOG_LIST[call_log_len - 10:]) & set(test_2)) >= 2"
   ]
  },
  {
   "cell_type": "code",
   "execution_count": 176,
   "metadata": {
    "collapsed": false
   },
   "outputs": [
    {
     "data": {
      "text/plain": [
       "True"
      ]
     },
     "execution_count": 176,
     "metadata": {},
     "output_type": "execute_result"
    }
   ],
   "source": [
    "len(set(CALL_LOG_LIST) & set(test_3)) < 1"
   ]
  },
  {
   "cell_type": "code",
   "execution_count": 161,
   "metadata": {
    "collapsed": false
   },
   "outputs": [
    {
     "data": {
      "text/plain": [
       "True"
      ]
     },
     "execution_count": 161,
     "metadata": {},
     "output_type": "execute_result"
    }
   ],
   "source": [
    "len(set(CALL_LOG_LIST) & set(test_5)) > 0"
   ]
  },
  {
   "cell_type": "code",
   "execution_count": 120,
   "metadata": {
    "collapsed": false
   },
   "outputs": [
    {
     "name": "stdout",
     "output_type": "stream",
     "text": [
      "True\n"
     ]
    }
   ],
   "source": [
    "for connect_word in test_7_1:\n",
    "    if connect_word in CALL_LOG_LIST:\n",
    "        index = CALL_LOG_LIST.index(connect_word)\n",
    "        [print(True) for day_word in test_7_2 if day_word in CALL_LOG_LIST[index: (index+4)]]"
   ]
  },
  {
   "cell_type": "code",
   "execution_count": 38,
   "metadata": {
    "collapsed": false
   },
   "outputs": [],
   "source": [
    "def score():\n",
    "    t1 = len(set(CALL_LOG_LIST[:20]) & set(test_1)) >= 4\n",
    "    t2 = len(set(CALL_LOG_LIST[call_log_len - 10:]) & set(test_2)) >= 2\n",
    "    t3 = len(set(CALL_LOG_LIST) & set(test_3)) < 1\n",
    "    t5 = len(set(CALL_LOG_LIST) & set(test_5)) > 0\n",
    "    \n",
    "    for connect_word in test_7_1:\n",
    "        if connect_word in CALL_LOG_LIST:\n",
    "            index = CALL_LOG_LIST.index(connect_word)\n",
    "            t7 = [True for day_word in test_7_2 if day_word in CALL_LOG_LIST[index: (index+4)]]\n",
    "    \n",
    "    scr = [t1, t2, t3, t5, t7[0]]\n",
    "\n",
    "    total_score = [1 for x in scr if x == True]\n",
    "    \n",
    "    return total_score\n",
    "    "
   ]
  },
  {
   "cell_type": "code",
   "execution_count": 39,
   "metadata": {
    "collapsed": false
   },
   "outputs": [
    {
     "data": {
      "text/plain": [
       "[1, 1, 1, 1]"
      ]
     },
     "execution_count": 39,
     "metadata": {},
     "output_type": "execute_result"
    }
   ],
   "source": [
    "score()"
   ]
  },
  {
   "cell_type": "code",
   "execution_count": null,
   "metadata": {
    "collapsed": true
   },
   "outputs": [],
   "source": []
  }
 ],
 "metadata": {
  "kernelspec": {
   "display_name": "Python 3",
   "language": "python",
   "name": "python3"
  },
  "language_info": {
   "codemirror_mode": {
    "name": "ipython",
    "version": 3
   },
   "file_extension": ".py",
   "mimetype": "text/x-python",
   "name": "python",
   "nbconvert_exporter": "python",
   "pygments_lexer": "ipython3",
   "version": "3.6.0"
  }
 },
 "nbformat": 4,
 "nbformat_minor": 2
}
