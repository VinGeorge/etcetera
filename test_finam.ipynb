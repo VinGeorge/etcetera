{
 "cells": [
  {
   "cell_type": "markdown",
   "metadata": {},
   "source": [
    "# Вопросы, которые нужно оценить:\n",
    "1.\tКорректность приветствия Да/Нет, где Да=1, Нет=0.\n",
    "2.\tКорректность прощания Да/Нет, где Да=1, Нет=0.\n",
    "3.\tОтсутствие слэнга Да/Нет, где Да=1, Нет=0.\n",
    "4.\tОтсутствие слов паразитов Да/Нет, где Да=1, Нет=0.\n",
    "5.\tПредложение услуг в разговоре Да/Нет, где Да=1, Нет=0.\n",
    "6.\tНазначена ли встреча в разговоре Да/Нет, где Да=1, Нет=0.\n",
    "7.\tДолжен ли быть запланирован следующий звонок Да/Нет, где Да=1, Нет=0.\n",
    "\n",
    "Критерии соответствия для вопросов, все критерии представлены в виде справочников, для данного задания ниже приведены конкретные варианты для проверки:\n",
    "1.\tПриветствие корректно, если оно соответствует формуле\n",
    "Приветственное слово (Добрый день/Здравствуйте) + имя сотрудника + Имя и Отчество клиента \n",
    "2.\tПрощание корректно, если оно содержит минимум 1 прощальное слово (До свидания/Всего доброго)\n",
    "3.\tСлэнговые слова: Облигашка, Денюжки/Денешки\n",
    "4.\tСлова паразиты: Как бы, Соответственно (если повторяется два раза близко друг к другу)\n",
    "5.\tУслуги компании: стратегии, американский рынок, обучение, Transaq, QUIK\n",
    "6.\tВстреча считается назначенной, если в разговоре менеджер обозначает встречу по формуле:\n",
    "Слово «Встреча» + дата и время произнесенные не дальше чем через 7 слов от Встреча\n",
    "7.\tЗвонок должен быть запланирован, если в разговоре менеджер произносит:\n",
    "Вводное слово «Созвонится/Связаться/Созвонимся/Свяжемся» + хотя бы одно слово из «дней/день/недели/недель/месяц» не дальше чем через 3 слова после вводного\n"
   ]
  },
  {
   "cell_type": "code",
   "execution_count": 230,
   "metadata": {
    "collapsed": false
   },
   "outputs": [],
   "source": [
    "def words_to_list(file_name):\n",
    "    words = []\n",
    "    with open ('/Users/yvdsd/SandBox/{}.txt'.format(file_name), mode = 'r') as f:\n",
    "        for line in f:\n",
    "            lower_line = line.lower().strip()\n",
    "            new_line = lower_line.split()\n",
    "            [words.append(word) for word in new_line]\n",
    "    return words"
   ]
  },
  {
   "cell_type": "code",
   "execution_count": 231,
   "metadata": {
    "collapsed": false
   },
   "outputs": [],
   "source": [
    "CALL_LOG_LIST = words_to_list('call_log_test')\n",
    "CLIENT_NAME = ('геннадий', 'александрович')\n",
    "MANAGER_NAME = 'михаил'\n",
    "test_1 = ['добрый', 'день', 'здравствуйте', MANAGER_NAME, CLIENT_NAME]\n",
    "test_2 = ['до', 'свидания', 'всего', 'доброго']\n",
    "test_3 = ['облигашка', 'денюжки', 'денешки']\n",
    "test_4_2 = ['как', 'бы']\n",
    "test_4_1 = ['соответственно']\n",
    "test_5 = ['стратегии', 'американский', 'рынок', 'обучение', 'transaq', 'quik']\n",
    "days_list = ['понедельник', 'вторник', 'среда', 'четверг', 'пятница', 'суббота', 'воскресенье']\n",
    "month_list =  ['января', 'февраля', 'марта', 'апреля', 'майя', 'апреля', 'июня', 'июля', 'августа', 'сентября', 'октября', 'ноября', 'декабря']\n",
    "test_7_1 = ['созвонится', 'связаться', 'созвонимся', 'свяжемся']\n",
    "test_7_2 = ['дней', 'день', 'недели', 'недель', 'месяц']"
   ]
  },
  {
   "cell_type": "code",
   "execution_count": 207,
   "metadata": {
    "collapsed": false
   },
   "outputs": [],
   "source": [
    "def test_4():\n",
    "    paraside_text = list()\n",
    "    [paraside_text.append(1 if word in test_4_1 else 0) for word in CALL_LOG_LIST]\n",
    "    True_False_list = [False if word == 1 and sum(paraside_text[i+1:i+5]) >= 1 else True for i, word in enumerate(paraside_text[:-1])]\n",
    "    if False in True_False_list:\n",
    "        param = False\n",
    "    else:\n",
    "        param = True\n",
    "    return param"
   ]
  },
  {
   "cell_type": "code",
   "execution_count": 193,
   "metadata": {
    "collapsed": true
   },
   "outputs": [],
   "source": [
    "def test_6():\n",
    "    text = []\n",
    "    [text.append('!' if word == 'встреча' else 1 if word in days_list else 2 if word in month_list else 0)for word in CALL_LOG_LIST]\n",
    "    True_False_list = [True if word == \"!\" and sum(text[i+1: i+7]) >=3 else False for i, word in enumerate(text[:-1])]\n",
    "    if True in True_False_list:\n",
    "        param = True\n",
    "    else:\n",
    "        param = False\n",
    "    return param"
   ]
  },
  {
   "cell_type": "code",
   "execution_count": 194,
   "metadata": {
    "collapsed": false
   },
   "outputs": [],
   "source": [
    "def test_7():\n",
    "    for connect_word in test_7_1:\n",
    "        if connect_word in CALL_LOG_LIST:\n",
    "            index = CALL_LOG_LIST.index(connect_word)\n",
    "            True_list = [True for day_word in test_7_2 if day_word in CALL_LOG_LIST[index: index+4]]\n",
    "    return True_list[0]"
   ]
  },
  {
   "cell_type": "code",
   "execution_count": 208,
   "metadata": {
    "collapsed": false
   },
   "outputs": [],
   "source": [
    "def score():\n",
    "    t1 = len(set(CALL_LOG_LIST[:20]) & set(test_1)) >= 4\n",
    "    t2 = len(set(CALL_LOG_LIST[-10:]) & set(test_2)) >= 2\n",
    "    t3 = len(set(CALL_LOG_LIST) & set(test_3)) < 1\n",
    "    t4 = test_4()\n",
    "    t5 = len(set(CALL_LOG_LIST) & set(test_5)) > 0\n",
    "    t6 = test_6()\n",
    "    t7 = test_7()\n",
    "    scr = [t1, t2, t3, t4, t5, t6, t7]\n",
    "    total_score = [1 if x == True else 0 for x in scr]\n",
    "    return total_score"
   ]
  },
  {
   "cell_type": "code",
   "execution_count": 228,
   "metadata": {
    "collapsed": true
   },
   "outputs": [],
   "source": [
    "def report():\n",
    "    check_list = score()\n",
    "    if check_list[0] == 0:\n",
    "        print('Корректность приветствия - НЕТ')\n",
    "    else:\n",
    "        print('Корректность приветствия - ДА')\n",
    "    \n",
    "    if check_list[1] == 0:\n",
    "        print('Корректность прощания - НЕТ')\n",
    "    else:\n",
    "        print('Корректность прощания - ДА')\n",
    "        \n",
    "    if check_list[2] == 0:\n",
    "        print('Отсутствие слэнга - НЕТ')\n",
    "    else:\n",
    "        print('Отсутствие слэнга - ДА')\n",
    "        \n",
    "    if check_list[3] == 0:\n",
    "        print('Отсутствие слов паразитов - НЕТ')\n",
    "    else:\n",
    "        print('Отсутствие слов паразитов - ДА')        \n",
    "\n",
    "    if check_list[4] == 0:\n",
    "        print('Предложение услуг в разговоре - НЕТ')\n",
    "    else:\n",
    "        print('Предложение услуг в разговоре - ДА')   \n",
    "        \n",
    "    if check_list[5] == 0:\n",
    "        print('Назначена ли встреча в разговоре - НЕТ')\n",
    "    else:\n",
    "        print('Назначена ли встреча в разговоре - ДА')\n",
    "\n",
    "    if check_list[6] == 0:\n",
    "        print('Должен ли быть запланирован следующий звонок - НЕТ')\n",
    "    else:\n",
    "        print('Должен ли быть запланирован следующий звонок - ДА')\n",
    "    \n",
    "    print('Оценка разговора ---> {} из 7'.format(sum(check_list)))"
   ]
  },
  {
   "cell_type": "code",
   "execution_count": 224,
   "metadata": {
    "collapsed": false
   },
   "outputs": [
    {
     "name": "stdout",
     "output_type": "stream",
     "text": [
      "Корректность приветствия - НЕТ\n",
      "Корректность прощания - ДА\n",
      "Отсутствие слэнга - ДА\n",
      "Отсутствие слов паразитов - НЕТ\n",
      "Предложение услуг в разговоре - ДА\n",
      "Назначена ли встреча в разговоре - НЕТ\n",
      "Должен ли быть запланирован следующий звонок - ДА\n",
      "Оценка разговора ---> 4 из 7\n"
     ]
    }
   ],
   "source": [
    "report()"
   ]
  },
  {
   "cell_type": "code",
   "execution_count": null,
   "metadata": {
    "collapsed": true
   },
   "outputs": [],
   "source": []
  }
 ],
 "metadata": {
  "kernelspec": {
   "display_name": "Python 3",
   "language": "python",
   "name": "python3"
  },
  "language_info": {
   "codemirror_mode": {
    "name": "ipython",
    "version": 3
   },
   "file_extension": ".py",
   "mimetype": "text/x-python",
   "name": "python",
   "nbconvert_exporter": "python",
   "pygments_lexer": "ipython3",
   "version": "3.6.0"
  }
 },
 "nbformat": 4,
 "nbformat_minor": 2
}
