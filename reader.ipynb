
  {
   "cell_type": "code",
   "execution_count": 11,
   "metadata": {
    "collapsed": true
   },
   "outputs": [],
   "source": [
    "import json\n",
    "import chardet\n",
    "from pprint import pprint"
   ]
  },
  {
   "cell_type": "code",
   "execution_count": 17,
   "metadata": {
    "collapsed": false
   },
   "outputs": [],
   "source": [
    "def decoding(name_json):\n",
    "    with open(name_json, 'rb') as f:\n",
    "        read_json = f.read()\n",
    "        coding = chardet.detect(read_json)\n",
    "        with open(name_json, encoding=coding['encoding']) as r:\n",
    "            new_read_json = json.load(r)\n",
    "            return new_read_json"
   ]
  },
  {
   "cell_type": "code",
   "execution_count": 18,
   "metadata": {
    "collapsed": false
   },
   "outputs": [],
   "source": [
    "def get_words():\n",
    "    decode_json = decoding('newsafr.json')\n",
    "    list2 = []\n",
    "    for description in decode_json['rss']['channel']['items']:\n",
    "        y = description['description']\n",
    "        description_split = y.split()\n",
    "        for final_description in description_split:\n",
    "            if len(final_description)>6:\n",
    "                list2.append(final_description)\n",
    "    return list2"
   ]
  },
  {
   "cell_type": "code",
   "execution_count": 25,
   "metadata": {
    "collapsed": false
   },
   "outputs": [],
   "source": [
    "def all_sorted():\n",
    "    words = get_words()\n",
    "    top_words = {}\n",
    "    for name_words in words:\n",
    "        if name_words in top_words:\n",
    "            top_words[name_words] += 1\n",
    "        else:\n",
    "            top_words[name_words] = 1\n",
    "    return top_words\n",
    "\n",
    "def top_10():\n",
    "    non_sort = all_sorted() \n",
    "    sort = sorted(non_sort.items(), key = lambda item: item[1], reverse=True)\n",
    "    for i, test in enumerate(sort):\n",
    "        if i<10:\n",
    "            print('ТОП {} - слово \"{}\" c частотой упоминания - {}'.format(i+1, test[0], test[1]))"
   ]
  },
  {
   "cell_type": "code",
   "execution_count": null,
   "metadata": {
    "collapsed": true
   },
   "outputs": [],
   "source": []
  }
 ],
 "metadata": {
  "kernelspec": {
   "display_name": "Python 3",
   "language": "python",
   "name": "python3"
  },
  "language_info": {
   "codemirror_mode": {
    "name": "ipython",
    "version": 3
   },
   "file_extension": ".py",
   "mimetype": "text/x-python",
   "name": "python",
   "nbconvert_exporter": "python",
   "pygments_lexer": "ipython3",
   "version": "3.6.0"
  }
 },
 "nbformat": 4,
 "nbformat_minor": 2
}
