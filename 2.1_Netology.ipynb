{
 "cells": [
  {
   "cell_type": "markdown",
   "metadata": {},
   "source": [
    "# Classwork"
   ]
  },
  {
   "cell_type": "code",
   "execution_count": 8,
   "metadata": {
    "collapsed": false
   },
   "outputs": [
    {
     "name": "stdout",
     "output_type": "stream",
     "text": [
      "Я изучаю Python\n",
      "\n",
      "Много изучаем  Python\n",
      "\n"
     ]
    }
   ],
   "source": [
    "f = open('file1.txt', \"r\")\n",
    "# print(f.read())\n",
    "print(f.readline())\n",
    "print(f.readline())\n",
    "f.close()"
   ]
  },
  {
   "cell_type": "code",
   "execution_count": 79,
   "metadata": {
    "collapsed": false
   },
   "outputs": [
    {
     "name": "stdout",
     "output_type": "stream",
     "text": [
      "Я изучаю Python\n",
      "Много изучаем  Python\n",
      "\n",
      "Файл из нескольких строк\n"
     ]
    }
   ],
   "source": [
    "with open('file1.txt') as f:\n",
    "    for line in f:\n",
    "#         print(f.readlines())\n",
    "        print(line.strip())"
   ]
  },
  {
   "cell_type": "code",
   "execution_count": 72,
   "metadata": {
    "collapsed": false
   },
   "outputs": [],
   "source": [
    "grades = {}\n",
    "\n",
    "with open(\"file3.txt\") as f:\n",
    "    for line in f:\n",
    "        grade = line.strip()\n",
    "\n",
    "        \n",
    "        marks = f.readline()\n",
    "        marks_list = marks.split()\n",
    "        \n",
    "        marks_list = list(map(int, marks_list))\n",
    "#         marks_list = [int(x) for x  in marks_list]\n",
    "        \n",
    "        avg = sum(marks_list)/len(marks_list)\n",
    "        grades[grade] = avg\n",
    "        \n",
    "        f.readline()\n",
    "# print(grades)\n",
    "\n",
    "MaxGrade = None\n",
    "MaxMarks = 0\n",
    "\n",
    "for grade, mark in grades.items():\n",
    "    if MaxMarks < mark:\n",
    "        MaxMarks = mark\n",
    "        MaxGrade = grade\n",
    "# print('Класс с наибольшей оценкой: {}, оценка {}'.format(MaxGrade, MaxMarks))\n",
    "\n",
    "with open('results.txt', 'w') as f:\n",
    "    for grade, mark in grades.items():\n",
    "        f.write('{} класса с оценкой: {}\\n'.format(grade, mark))"
   ]
  },
  {
   "cell_type": "markdown",
   "metadata": {},
   "source": [
    "# Homework"
   ]
  },
  {
   "cell_type": "code",
   "execution_count": 107,
   "metadata": {
    "collapsed": false
   },
   "outputs": [],
   "source": [
    "from pprint import pprint\n",
    "def recipes():\n",
    "    with open ('2.1_cookbook.txt') as f:\n",
    "        cook_book = {}\n",
    "        for line in f:\n",
    "            dish = line.lower().strip()\n",
    "            contains = []\n",
    "            for y in range(int(f.readline())):\n",
    "                ingridient = f.readline().split(\"|\")\n",
    "                ing_list = list(map(str.strip, ingridient))\n",
    "                contains.append({'ingridient_name': ing_list[0], 'quantity' : int(ing_list[1]), 'measure': ing_list[2]})\n",
    "            cook_book[dish] = contains\n",
    "            f.readline()\n",
    "    return cook_book\n",
    "#         pprint(cook_book)"
   ]
  },
  {
   "cell_type": "code",
   "execution_count": 108,
   "metadata": {
    "collapsed": false
   },
   "outputs": [
    {
     "name": "stdout",
     "output_type": "stream",
     "text": [
      "Введите количество человек: 2\n",
      "Введите блюда в расчете на одного человека: салат\n",
      "Помидоры 200 гр.\n",
      "Огурцы 200 гр.\n",
      "Масло 200 мл.\n",
      "Лук 2 шт.\n"
     ]
    }
   ],
   "source": [
    "def get_shop_list_by_dishes(dishes, person_count):\n",
    "    cook_book = recipes()\n",
    "    shop_list = {}\n",
    "    for dish in dishes:\n",
    "        for ingridient in cook_book[dish]:\n",
    "            new_shop_list_item = dict(ingridient)\n",
    "            \n",
    "            new_shop_list_item['quantity'] *= person_count\n",
    "            if new_shop_list_item['ingridient_name'] not in shop_list:\n",
    "                shop_list[new_shop_list_item['ingridient_name']] = new_shop_list_item\n",
    "            else:\n",
    "                shop_list[new_shop_list_item['ingridient_name']]['quantity'] += new_shop_list_item['quantity']\n",
    "        return shop_list\n",
    "\n",
    "def print_shop_list(shop_list):\n",
    "    for shop_list_item in shop_list.values():\n",
    "        print('{} {} {}'.format(shop_list_item['ingridient_name'], shop_list_item['quantity'], shop_list_item['measure']))\n",
    "\n",
    "def create_shop_list():\n",
    "    person_count = int(input('Введите количество человек: '))\n",
    "    dishes = input('Введите блюда в расчете на одного человека: ').lower().split(', ')\n",
    "    shop_list = get_shop_list_by_dishes(dishes, person_count)\n",
    "    print_shop_list(shop_list)\n",
    "\n",
    "create_shop_list()\n"
   ]
  },
  {
   "cell_type": "code",
   "execution_count": null,
   "metadata": {
    "collapsed": true
   },
   "outputs": [],
   "source": []
  }
 ],
 "metadata": {
  "kernelspec": {
   "display_name": "Python 3",
   "language": "python",
   "name": "python3"
  },
  "language_info": {
   "codemirror_mode": {
    "name": "ipython",
    "version": 3
   },
   "file_extension": ".py",
   "mimetype": "text/x-python",
   "name": "python",
   "nbconvert_exporter": "python",
   "pygments_lexer": "ipython3",
   "version": "3.6.0"
  }
 },
 "nbformat": 4,
 "nbformat_minor": 2
}
