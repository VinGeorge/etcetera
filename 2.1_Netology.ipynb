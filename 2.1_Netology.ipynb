{
 "cells": [
  {
   "cell_type": "code",
   "execution_count": 8,
   "metadata": {
    "collapsed": false
   },
   "outputs": [
    {
     "name": "stdout",
     "output_type": "stream",
     "text": [
      "Я изучаю Python\n",
      "\n",
      "Много изучаем  Python\n",
      "\n"
     ]
    }
   ],
   "source": [
    "f = open('file1.txt', \"r\")\n",
    "# print(f.read())\n",
    "print(f.readline())\n",
    "print(f.readline())\n",
    "f.close()"
   ]
  },
  {
   "cell_type": "code",
   "execution_count": 16,
   "metadata": {
    "collapsed": false
   },
   "outputs": [
    {
     "name": "stdout",
     "output_type": "stream",
     "text": [
      "Я изучаю Python\n",
      "Много изучаем  Python\n",
      "\n",
      "Файл из нескольких строк\n"
     ]
    }
   ],
   "source": [
    "with open('file1.txt') as f:\n",
    "    for line in f:\n",
    "        print(line.strip())\n",
    "#     print(f.readlines())"
   ]
  },
  {
   "cell_type": "code",
   "execution_count": 24,
   "metadata": {
    "collapsed": false
   },
   "outputs": [
    {
     "name": "stdout",
     "output_type": "stream",
     "text": [
      "4 5 3 5 4 2 4 5 4 5 \n",
      "\n",
      "9Б\n",
      "\n",
      "\n",
      "\n",
      "2 3 4 5 4 5 4 5\n"
     ]
    }
   ],
   "source": [
    "with open ('test.txt') as t:\n",
    "    for line in t:\n",
    "        new_line = line.strip()\n",
    "        \n",
    "        test_line = t.readline()\n",
    "        print(test_line)"
   ]
  },
  {
   "cell_type": "code",
   "execution_count": 15,
   "metadata": {
    "collapsed": false
   },
   "outputs": [
    {
     "name": "stdout",
     "output_type": "stream",
     "text": [
      "9А\n",
      "\n",
      "9Б\n",
      "\n",
      "9В\n",
      "\n"
     ]
    }
   ],
   "source": [
    "grades = {}\n",
    "\n",
    "with open(\"file3.txt\") as f:\n",
    "    for line in f:\n",
    "        grade = line.strip()\n",
    "\n",
    "        \n",
    "        marks = f.readline()\n",
    "        marks_list = marks.split()\n",
    "        \n",
    "        marks_list = list(map(int, marks_list))\n",
    "#         marks_list = [int(x) for x  in marks_list]\n",
    "        \n",
    "        avg = sum(marks_list)/len(marks_list)\n",
    "        grades[grade] = avg\n",
    "        \n",
    "        f.readline()\n",
    "# print(grades)\n",
    "\n",
    "MaxGrade = None\n",
    "MaxMarks = 0\n",
    "\n",
    "for grade, mark in grades.items():\n",
    "    if MaxMarks < mark:\n",
    "        MaxMarks = mark\n",
    "        MaxGrade = grade\n",
    "# print('Класс с наибольшей оценкой: {}, оценка {}'.format(MaxGrade, MaxMarks))\n",
    "\n",
    "with open('results.txt', 'w') as f:\n",
    "    for grade, mark in grades.items():\n",
    "        f.write('{} класса с оценкой: {}\\n'.format(grade, mark))"
   ]
  },
  {
   "cell_type": "code",
   "execution_count": 58,
   "metadata": {
    "collapsed": false
   },
   "outputs": [
    {
     "name": "stdout",
     "output_type": "stream",
     "text": [
      "['2\\n']\n",
      "['Яйца', '100', 'гр.\\n']\n",
      "['Стейк\\n']\n",
      "['Говядина', '300', 'гр.\\n']\n",
      "['Масло', '10', 'мл.\\n']\n",
      "['Салат\\n']\n",
      "['Помидоры', '100', 'гр.\\n']\n",
      "['Масло', '100', 'мл.\\n']\n",
      "['']\n"
     ]
    }
   ],
   "source": [
    "cook_book = {}\n",
    "with open ('2.1_cookbook.txt') as c:\n",
    "    for line in c:\n",
    "        dish = line.strip()\n",
    "        ingr = c.readline()\n",
    "        ingr_list = ingr.split(' | ')\n",
    "        print(ingr_list)\n",
    "        \n",
    "#         ingridients = c.readline().strip().split(' | ')\n",
    "#         print(dish, ingridients)\n",
    "#         recepies = line.strip().split(' | ')\n",
    "        \n",
    "#         print(recepies)\n",
    "\n"
   ]
  },
  {
   "cell_type": "code",
   "execution_count": 40,
   "metadata": {
    "collapsed": false
   },
   "outputs": [
    {
     "name": "stdout",
     "output_type": "stream",
     "text": [
      "Введите количество человек: 1\n",
      "Введите блюда в расчете на одного человека (через запятую): 1\n"
     ]
    },
    {
     "ename": "KeyError",
     "evalue": "'1'",
     "output_type": "error",
     "traceback": [
      "\u001b[0;31m---------------------------------------------------------------------------\u001b[0m",
      "\u001b[0;31mKeyError\u001b[0m                                  Traceback (most recent call last)",
      "\u001b[0;32m<ipython-input-40-a05bca636e13>\u001b[0m in \u001b[0;36m<module>\u001b[0;34m()\u001b[0m\n\u001b[1;32m     22\u001b[0m   \u001b[0mprint_shop_list\u001b[0m\u001b[0;34m(\u001b[0m\u001b[0mshop_list\u001b[0m\u001b[0;34m)\u001b[0m\u001b[0;34m\u001b[0m\u001b[0m\n\u001b[1;32m     23\u001b[0m \u001b[0;34m\u001b[0m\u001b[0m\n\u001b[0;32m---> 24\u001b[0;31m \u001b[0mcreate_shop_list\u001b[0m\u001b[0;34m(\u001b[0m\u001b[0;34m)\u001b[0m\u001b[0;34m\u001b[0m\u001b[0m\n\u001b[0m",
      "\u001b[0;32m<ipython-input-40-a05bca636e13>\u001b[0m in \u001b[0;36mcreate_shop_list\u001b[0;34m()\u001b[0m\n\u001b[1;32m     19\u001b[0m   \u001b[0mperson_count\u001b[0m \u001b[0;34m=\u001b[0m \u001b[0mint\u001b[0m\u001b[0;34m(\u001b[0m\u001b[0minput\u001b[0m\u001b[0;34m(\u001b[0m\u001b[0;34m'Введите количество человек: '\u001b[0m\u001b[0;34m)\u001b[0m\u001b[0;34m)\u001b[0m\u001b[0;34m\u001b[0m\u001b[0m\n\u001b[1;32m     20\u001b[0m   \u001b[0mdishes\u001b[0m \u001b[0;34m=\u001b[0m \u001b[0minput\u001b[0m\u001b[0;34m(\u001b[0m\u001b[0;34m'Введите блюда в расчете на одного человека (через запятую): '\u001b[0m\u001b[0;34m)\u001b[0m     \u001b[0;34m.\u001b[0m\u001b[0mlower\u001b[0m\u001b[0;34m(\u001b[0m\u001b[0;34m)\u001b[0m\u001b[0;34m.\u001b[0m\u001b[0msplit\u001b[0m\u001b[0;34m(\u001b[0m\u001b[0;34m', '\u001b[0m\u001b[0;34m)\u001b[0m\u001b[0;34m\u001b[0m\u001b[0m\n\u001b[0;32m---> 21\u001b[0;31m   \u001b[0mshop_list\u001b[0m \u001b[0;34m=\u001b[0m \u001b[0mget_shop_list_by_dishes\u001b[0m\u001b[0;34m(\u001b[0m\u001b[0mdishes\u001b[0m\u001b[0;34m,\u001b[0m \u001b[0mperson_count\u001b[0m\u001b[0;34m)\u001b[0m\u001b[0;34m\u001b[0m\u001b[0m\n\u001b[0m\u001b[1;32m     22\u001b[0m   \u001b[0mprint_shop_list\u001b[0m\u001b[0;34m(\u001b[0m\u001b[0mshop_list\u001b[0m\u001b[0;34m)\u001b[0m\u001b[0;34m\u001b[0m\u001b[0m\n\u001b[1;32m     23\u001b[0m \u001b[0;34m\u001b[0m\u001b[0m\n",
      "\u001b[0;32m<ipython-input-40-a05bca636e13>\u001b[0m in \u001b[0;36mget_shop_list_by_dishes\u001b[0;34m(dishes, person_count)\u001b[0m\n\u001b[1;32m      2\u001b[0m   \u001b[0mshop_list\u001b[0m \u001b[0;34m=\u001b[0m \u001b[0;34m{\u001b[0m\u001b[0;34m}\u001b[0m\u001b[0;34m\u001b[0m\u001b[0m\n\u001b[1;32m      3\u001b[0m   \u001b[0;32mfor\u001b[0m \u001b[0mdish\u001b[0m \u001b[0;32min\u001b[0m \u001b[0mdishes\u001b[0m\u001b[0;34m:\u001b[0m\u001b[0;34m\u001b[0m\u001b[0m\n\u001b[0;32m----> 4\u001b[0;31m     \u001b[0;32mfor\u001b[0m \u001b[0mingridient\u001b[0m \u001b[0;32min\u001b[0m \u001b[0mcook_book\u001b[0m\u001b[0;34m[\u001b[0m\u001b[0mdish\u001b[0m\u001b[0;34m]\u001b[0m\u001b[0;34m:\u001b[0m\u001b[0;34m\u001b[0m\u001b[0m\n\u001b[0m\u001b[1;32m      5\u001b[0m       \u001b[0mnew_shop_list_item\u001b[0m \u001b[0;34m=\u001b[0m \u001b[0mdict\u001b[0m\u001b[0;34m(\u001b[0m\u001b[0mingridient\u001b[0m\u001b[0;34m)\u001b[0m\u001b[0;34m\u001b[0m\u001b[0m\n\u001b[1;32m      6\u001b[0m \u001b[0;34m\u001b[0m\u001b[0m\n",
      "\u001b[0;31mKeyError\u001b[0m: '1'"
     ]
    }
   ],
   "source": [
    "def get_shop_list_by_dishes(dishes, person_count):\n",
    "  shop_list = {}\n",
    "  for dish in dishes:\n",
    "    for ingridient in cook_book[dish]:\n",
    "      new_shop_list_item = dict(ingridient)\n",
    "\n",
    "      new_shop_list_item['quantity'] *= person_count\n",
    "      if new_shop_list_item['ingridient_name'] not in shop_list:\n",
    "        shop_list[new_shop_list_item['ingridient_name']] = new_shop_list_item\n",
    "      else:\n",
    "        shop_list[new_shop_list_item['ingridient_name']]['quantity'] += new_shop_list_item['quantity']\n",
    "  return shop_list\n",
    "\n",
    "def print_shop_list(shop_list):\n",
    "  for shop_list_item in shop_list.values():\n",
    "    print('{} {} {}'.format(shop_list_item['ingridient_name'], shop_list_item['quantity'], shop_list_item['measure']))\n",
    "\n",
    "def create_shop_list():\n",
    "  person_count = int(input('Введите количество человек: '))\n",
    "  dishes = input('Введите блюда в расчете на одного человека (через запятую): ') \\\n",
    "    .lower().split(', ')\n",
    "  shop_list = get_shop_list_by_dishes(dishes, person_count)\n",
    "  print_shop_list(shop_list)\n",
    "\n",
    "create_shop_list()"
   ]
  },
  {
   "cell_type": "code",
   "execution_count": null,
   "metadata": {
    "collapsed": true
   },
   "outputs": [],
   "source": []
  }
 ],
 "metadata": {
  "kernelspec": {
   "display_name": "Python 3",
   "language": "python",
   "name": "python3"
  },
  "language_info": {
   "codemirror_mode": {
    "name": "ipython",
    "version": 3
   },
   "file_extension": ".py",
   "mimetype": "text/x-python",
   "name": "python",
   "nbconvert_exporter": "python",
   "pygments_lexer": "ipython3",
   "version": "3.6.0"
  }
 },
 "nbformat": 4,
 "nbformat_minor": 2
}
