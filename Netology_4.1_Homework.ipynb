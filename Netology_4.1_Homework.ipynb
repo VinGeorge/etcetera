{
 "cells": [
  {
   "cell_type": "code",
   "execution_count": 272,
   "metadata": {
    "collapsed": true
   },
   "outputs": [],
   "source": [
    "import pandas as pd\n",
    "import numpy as np\n",
    "import matplotlib.pyplot as plt\n",
    "%matplotlib inline"
   ]
  },
  {
   "cell_type": "markdown",
   "metadata": {},
   "source": [
    "# Задание №1\n",
    "#### С использованием Pandas написать функцию, которая загружает указанные года и выводит ТОП-3 популярных имен."
   ]
  },
  {
   "cell_type": "code",
   "execution_count": 270,
   "metadata": {
    "collapsed": false
   },
   "outputs": [],
   "source": [
    "def get_names(year):\n",
    "    path_names = '/Users/yvdsd/SandBox/names/yob{}.txt'.format(year)\n",
    "    names_data = pd.read_csv(\n",
    "        path_names,\n",
    "        names = ['Name', 'Gender', 'Count'],\n",
    "    )\n",
    "    return names_data"
   ]
  },
  {
   "cell_type": "code",
   "execution_count": 278,
   "metadata": {
    "collapsed": false
   },
   "outputs": [],
   "source": [
    "def top_names(year_1, year_2, year_3):\n",
    "    names_all = pd.concat([get_names(year_1), get_names(year_2), get_names(year_3)])\n",
    "    group_names = names_all.groupby('Name').sum().sort_values(by = 'Count', ascending = False)\n",
    "    return group_names"
   ]
  },
  {
   "cell_type": "code",
   "execution_count": 279,
   "metadata": {
    "collapsed": false
   },
   "outputs": [
    {
     "data": {
      "text/html": [
       "<div>\n",
       "<table border=\"1\" class=\"dataframe\">\n",
       "  <thead>\n",
       "    <tr style=\"text-align: right;\">\n",
       "      <th></th>\n",
       "      <th>Count</th>\n",
       "    </tr>\n",
       "    <tr>\n",
       "      <th>Name</th>\n",
       "      <th></th>\n",
       "    </tr>\n",
       "  </thead>\n",
       "  <tbody>\n",
       "    <tr>\n",
       "      <th>Mary</th>\n",
       "      <td>35986</td>\n",
       "    </tr>\n",
       "    <tr>\n",
       "      <th>John</th>\n",
       "      <td>28134</td>\n",
       "    </tr>\n",
       "    <tr>\n",
       "      <th>William</th>\n",
       "      <td>25713</td>\n",
       "    </tr>\n",
       "  </tbody>\n",
       "</table>\n",
       "</div>"
      ],
      "text/plain": [
       "         Count\n",
       "Name          \n",
       "Mary     35986\n",
       "John     28134\n",
       "William  25713"
      ]
     },
     "execution_count": 279,
     "metadata": {},
     "output_type": "execute_result"
    }
   ],
   "source": [
    "top_names('1880','1890','1900').head(3)"
   ]
  },
  {
   "cell_type": "markdown",
   "metadata": {},
   "source": [
    "# Задание №2\n",
    "#### С использованием Pandas написать функцию, которая возвращает динамику изменения количества  имен за указанные года в разрезе полов."
   ]
  },
  {
   "cell_type": "code",
   "execution_count": 283,
   "metadata": {
    "collapsed": true
   },
   "outputs": [],
   "source": [
    "def get_gender_count(year, param):\n",
    "    names = get_names(year)\n",
    "    sort = names[names.Gender == param].Count.sum()\n",
    "    return sort"
   ]
  },
  {
   "cell_type": "code",
   "execution_count": 284,
   "metadata": {
    "collapsed": false
   },
   "outputs": [],
   "source": [
    "def gender_dinamic(year_1, year_2, year_3):\n",
    "    gender = pd.DataFrame({\n",
    "        'F' :[get_gender_count(year_1, 'F'),\n",
    "              get_gender_count(year_2, 'F'),\n",
    "              get_gender_count(year_3, 'F')\n",
    "              ],\n",
    "        'M': [get_gender_count(year_1, 'M'),\n",
    "              get_gender_count(year_2, 'M'),\n",
    "              get_gender_count(year_3, 'M')]\n",
    "    })\n",
    "    return gender"
   ]
  },
  {
   "cell_type": "code",
   "execution_count": null,
   "metadata": {
    "collapsed": true
   },
   "outputs": [],
   "source": [
    "gender_dinamic('1880','1890','1900')"
   ]
  }
 ],
 "metadata": {
  "kernelspec": {
   "display_name": "Python 3",
   "language": "python",
   "name": "python3"
  },
  "language_info": {
   "codemirror_mode": {
    "name": "ipython",
    "version": 3
   },
   "file_extension": ".py",
   "mimetype": "text/x-python",
   "name": "python",
   "nbconvert_exporter": "python",
   "pygments_lexer": "ipython3",
   "version": "3.6.0"
  }
 },
 "nbformat": 4,
 "nbformat_minor": 2
}
