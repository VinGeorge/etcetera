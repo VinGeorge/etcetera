{
 "cells": [
  {
   "cell_type": "code",
   "execution_count": 52,
   "metadata": {
    "collapsed": true
   },
   "outputs": [],
   "source": [
    "from pprint import pprint\n",
    "import pandas as pd\n",
    "import matplotlib.pyplot as plt\n",
    "from nltk import bigrams\n",
    "import urllib.request\n",
    "from sklearn.feature_extraction.text import CountVectorizer\n",
    "import operator"
   ]
  },
  {
   "cell_type": "code",
   "execution_count": 2,
   "metadata": {
    "collapsed": true
   },
   "outputs": [],
   "source": [
    "df = pd.read_csv('/Users/yvdsd/SandBox/Log.dms', sep='\\t')"
   ]
  },
  {
   "cell_type": "code",
   "execution_count": 3,
   "metadata": {
    "collapsed": false
   },
   "outputs": [],
   "source": [
    "def parse_url(req):\n",
    "    return urllib.parse.parse_qs(urllib.parse.urlparse(req).query).get('text', [''])[0]\n",
    "\n",
    "df['query'] = df.request.apply(parse_url)"
   ]
  },
  {
   "cell_type": "code",
   "execution_count": 5,
   "metadata": {
    "collapsed": false
   },
   "outputs": [],
   "source": [
    "tv_list = ['трансляц', 'онлайн', 'online', 'эфир', 'смотреть', \n",
    "           'нтв', 'орт', 'первый канал', 'второй канал', 'прямой эфир', \n",
    "          'фильм', 'твц', 'тнт', 'сериал', 'телепередач']\n",
    "stop_list = ['сбербанк', 'калькулятор', 'радио']"
   ]
  },
  {
   "cell_type": "code",
   "execution_count": 6,
   "metadata": {
    "collapsed": true
   },
   "outputs": [],
   "source": [
    "def tv_queries(df_name, list_name, stop_list_name):\n",
    "    var_list = []\n",
    "    [var_list.append(df_name[df_name['query'].str.contains(query)]) for query in list_name]\n",
    "    var_list_droped = pd.concat(var_list, join='inner').drop_duplicates()\n",
    "    return var_list_droped[~var_list_droped['query'].str.contains('|'.join(stop_list_name))]"
   ]
  },
  {
   "cell_type": "code",
   "execution_count": 7,
   "metadata": {
    "collapsed": false
   },
   "outputs": [],
   "source": [
    "df_all_tv_queries = tv_queries(df, tv_list, stop_list)"
   ]
  },
  {
   "cell_type": "code",
   "execution_count": 9,
   "metadata": {
    "collapsed": false
   },
   "outputs": [],
   "source": [
    "list_tv_queries = list(df_all_tv_queries['query'])"
   ]
  },
  {
   "cell_type": "code",
   "execution_count": 10,
   "metadata": {
    "collapsed": false
   },
   "outputs": [],
   "source": [
    "def bag_of_words(file_name):\n",
    "    words = []\n",
    "    for line in file_name:\n",
    "        lower_line = line.lower().strip()\n",
    "        new_line = lower_line.split()\n",
    "        [words.append(word) for word in new_line]\n",
    "    return words"
   ]
  },
  {
   "cell_type": "code",
   "execution_count": 11,
   "metadata": {
    "collapsed": false
   },
   "outputs": [],
   "source": [
    "def words_counting(file_name):\n",
    "    words = {}\n",
    "    for word in file_name:\n",
    "        if word in words:\n",
    "            words[word] += 1\n",
    "        else:\n",
    "            words[word] = 1\n",
    "    return(sorted(words.items(), key=operator.itemgetter(1),reverse=True))"
   ]
  },
  {
   "cell_type": "code",
   "execution_count": 13,
   "metadata": {
    "collapsed": true
   },
   "outputs": [],
   "source": [
    "cartoons_words = ['мультфильм', 'мультик', 'мультсериал', 'дисней', 'фиксики']\n",
    "films_words = ['фильм', 'кино']\n",
    "serials_words = ['сериал', 'серия']\n",
    "porno_words = ['порно', 'секс']"
   ]
  },
  {
   "cell_type": "code",
   "execution_count": 24,
   "metadata": {
    "collapsed": false
   },
   "outputs": [],
   "source": [
    "cartoon_claster = tv_queries(df_all_tv_queries, cartoons_words, porno_words)\n",
    "film_claster = tv_queries(df_all_tv_queries, films_words, porno_words + serials_words + cartoons_words)\n",
    "serial_cluster = tv_queries(df_all_tv_queries, serials_words, porno_words + cartoons_words)\n",
    "porno_cluster = tv_queries(df_all_tv_queries, porno_words, serials_words + cartoons_words)"
   ]
  },
  {
   "cell_type": "code",
   "execution_count": 26,
   "metadata": {
    "collapsed": false
   },
   "outputs": [
    {
     "data": {
      "text/plain": [
       "{'Другое': 44076,\n",
       " 'Мультфильмы': 5265,\n",
       " 'Порно': 2919,\n",
       " 'Сериалы': 12461,\n",
       " 'Фильмы': 34280}"
      ]
     },
     "execution_count": 26,
     "metadata": {},
     "output_type": "execute_result"
    }
   ],
   "source": [
    "diagram_dict = {'Фильмы': len(film_claster),\n",
    "               'Сериалы': len(serial_cluster),\n",
    "               'Мультфильмы': len(cartoon_claster),\n",
    "               'Порно': len(porno_cluster),\n",
    "               'Другое': len(df_all_tv_queries) - len(film_claster) - len(serial_cluster) - len(cartoon_claster) - len(porno_cluster)}"
   ]
  },
  {
   "cell_type": "code",
   "execution_count": 53,
   "metadata": {
    "collapsed": false
   },
   "outputs": [
    {
     "name": "stdout",
     "output_type": "stream",
     "text": [
      "'Доля запросов связанных с телевидением в общем потоке - 0.07424130279421944%'\n",
      "'Количество запросов связанных с телевидением - 99001'\n",
      "(\"Телевизионные запросы состоят из - {'Фильмы': 34280, 'Сериалы': 12461, \"\n",
      " \"'Мультфильмы': 5265, 'Порно': 2919, 'Другое': 44076}\")\n"
     ]
    }
   ],
   "source": [
    "pprint('Доля запросов связанных с телевидением в общем потоке - {}%'.format(len(df_all_tv_queries)/len(df)))\n",
    "pprint('Количество запросов связанных с телевидением - {}'.format(len(df_all_tv_queries)))\n",
    "pprint('Телевизионные запросы состоят из - {}'.format(diagram_dict))"
   ]
  },
  {
   "cell_type": "code",
   "execution_count": 55,
   "metadata": {
    "collapsed": false
   },
   "outputs": [
    {
     "data": {
      "image/png": "[encoded data removed]",
      "text/plain": [
       "<matplotlib.figure.Figure at 0x11a0922b0>"
      ]
     },
     "metadata": {},
     "output_type": "display_data"
    }
   ],
   "source": [
    "labels = 'Другое', 'Мультфильмы', 'Порно', 'Сериалы', 'Фильмы'\n",
    "sizes = [diagram_dict['Другое'], diagram_dict['Мультфильмы'], diagram_dict['Порно'], diagram_dict['Сериалы'], diagram_dict['Фильмы']]\n",
    "colors = ['yellowgreen', 'gold', 'lightskyblue', 'lightcoral', 'orange']\n",
    "explode = (0, 0, 0, 0, 0)\n",
    "\n",
    "plt.pie(sizes, explode=explode, labels=labels, colors=colors,\n",
    "        autopct='%1.1f%%', shadow=True)\n",
    "centre_circle = plt.Circle((0,0),0.75,color='black', fc='white',linewidth=1.25)\n",
    "fig = plt.gcf()\n",
    "fig.gca().add_artist(centre_circle)\n",
    "plt.axis('equal')\n",
    "plt.show()"
   ]
  },
  {
   "cell_type": "code",
   "execution_count": null,
   "metadata": {
    "collapsed": true
   },
   "outputs": [],
   "source": []
  }
 ],
 "metadata": {
  "kernelspec": {
   "display_name": "Python 3",
   "language": "python",
   "name": "python3"
  },
  "language_info": {
   "codemirror_mode": {
    "name": "ipython",
    "version": 3
   },
   "file_extension": ".py",
   "mimetype": "text/x-python",
   "name": "python",
   "nbconvert_exporter": "python",
   "pygments_lexer": "ipython3",
   "version": "3.6.0"
  }
 },
 "nbformat": 4,
 "nbformat_minor": 2
}
