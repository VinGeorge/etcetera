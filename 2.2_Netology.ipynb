{
 "cells": [
  {
   "cell_type": "markdown",
   "metadata": {},
   "source": [
    "# Homework"
   ]
  },
  {
   "cell_type": "code",
   "execution_count": 1,
   "metadata": {
    "collapsed": false
   },
   "outputs": [],
   "source": [
    "from pprint import pprint\n",
    "def recipes():\n",
    "    with open ('2.1_cookbook.txt') as f:\n",
    "        cook_book = {}\n",
    "        for line in f:\n",
    "            dish = line.lower().strip()\n",
    "            contains = []\n",
    "            for y in range(int(f.readline())):\n",
    "                ingridient = f.readline().split(\"|\")\n",
    "                ing_list = list(map(str.strip, ingridient))\n",
    "                contains.append({'ingridient_name': ing_list[0], 'quantity' : int(ing_list[1]), 'measure': ing_list[2]})\n",
    "            cook_book[dish] = contains\n",
    "            f.readline()\n",
    "    return cook_book\n",
    "#         pprint(cook_book)"
   ]
  },
  {
   "cell_type": "code",
   "execution_count": 10,
   "metadata": {
    "collapsed": false
   },
   "outputs": [
    {
     "name": "stdout",
     "output_type": "stream",
     "text": [
      "{'салат': [{'ingridient_name': 'Помидоры', 'measure': 'гр.', 'quantity': 100},\n",
      "           {'ingridient_name': 'Огурцы', 'measure': 'гр.', 'quantity': 100},\n",
      "           {'ingridient_name': 'Масло', 'measure': 'мл.', 'quantity': 100},\n",
      "           {'ingridient_name': 'Лук', 'measure': 'шт.', 'quantity': 1}],\n",
      " 'стейк': [{'ingridient_name': 'Говядина', 'measure': 'гр.', 'quantity': 300},\n",
      "           {'ingridient_name': 'Специи', 'measure': 'гр.', 'quantity': 5},\n",
      "           {'ingridient_name': 'Масло', 'measure': 'мл.', 'quantity': 10}],\n",
      " 'яичница': [{'ingridient_name': 'Яйца', 'measure': 'шт.', 'quantity': 2},\n",
      "             {'ingridient_name': 'Помидоры',\n",
      "              'measure': 'гр.',\n",
      "              'quantity': 100}]}\n"
     ]
    }
   ],
   "source": [
    "cook_b = recipes()\n",
    "import json\n",
    "from pprint import pprint\n",
    "data = json.dumps(cook_b, indent=2, ensure_ascii=False)\n",
    "cook_book_json = json.loads(data)\n",
    "# pprint(cook_book_json)"
   ]
  },
  {
   "cell_type": "code",
   "execution_count": 13,
   "metadata": {
    "collapsed": false
   },
   "outputs": [
    {
     "name": "stdout",
     "output_type": "stream",
     "text": [
      "Введите количество человек: 12\n",
      "Введите блюда в расчете на одного человека: салат\n",
      "Помидоры 1200 гр.\n",
      "Огурцы 1200 гр.\n",
      "Масло 1200 мл.\n",
      "Лук 12 шт.\n"
     ]
    }
   ],
   "source": [
    "def get_shop_list_by_dishes(dishes, person_count):\n",
    "    cook_book = cook_book_json\n",
    "    shop_list = {}\n",
    "    for dish in dishes:\n",
    "        for ingridient in cook_book[dish]:\n",
    "            new_shop_list_item = dict(ingridient)\n",
    "            \n",
    "            new_shop_list_item['quantity'] *= person_count\n",
    "            if new_shop_list_item['ingridient_name'] not in shop_list:\n",
    "                shop_list[new_shop_list_item['ingridient_name']] = new_shop_list_item\n",
    "            else:\n",
    "                shop_list[new_shop_list_item['ingridient_name']]['quantity'] += new_shop_list_item['quantity']\n",
    "        return shop_list\n",
    "\n",
    "def print_shop_list(shop_list):\n",
    "    for shop_list_item in shop_list.values():\n",
    "        print('{} {} {}'.format(shop_list_item['ingridient_name'], shop_list_item['quantity'], shop_list_item['measure']))\n",
    "\n",
    "def create_shop_list():\n",
    "    person_count = int(input('Введите количество человек: '))\n",
    "    dishes = input('Введите блюда в расчете на одного человека: ').lower().split(', ')\n",
    "    shop_list = get_shop_list_by_dishes(dishes, person_count)\n",
    "    print_shop_list(shop_list)\n",
    "\n",
    "create_shop_list()\n"
   ]
  },
  {
   "cell_type": "code",
   "execution_count": null,
   "metadata": {
    "collapsed": true
   },
   "outputs": [],
   "source": []
  }
 ],
 "metadata": {
  "kernelspec": {
   "display_name": "Python 3",
   "language": "python",
   "name": "python3"
  },
  "language_info": {
   "codemirror_mode": {
    "name": "ipython",
    "version": 3
   },
   "file_extension": ".py",
   "mimetype": "text/x-python",
   "name": "python",
   "nbconvert_exporter": "python",
   "pygments_lexer": "ipython3",
   "version": "3.6.0"
  }
 },
 "nbformat": 4,
 "nbformat_minor": 2
}
