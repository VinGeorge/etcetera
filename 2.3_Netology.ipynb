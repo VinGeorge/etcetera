{
 "cells": [
  {
   "cell_type": "markdown",
   "metadata": {},
   "source": [
    "Порядок работы:\n",
    "1. Открыть файл json\n",
    "2. Загрузить файл\n",
    "3. Определить кодировку\n",
    "4. Создать список\n",
    "5. Добавить в список все description\n",
    "6. Удалить из листа с description короткие слова ??? (может быть поможет sort) или как то выделить все слова в отдельный список а потом удалять по len<6\n",
    "7. Определить колличество оставшихся слов\n",
    "8. Отсортировать по значению \n"
   ]
  },
  {
   "cell_type": "code",
   "execution_count": 6,
   "metadata": {
    "collapsed": true
   },
   "outputs": [],
   "source": [
    "import json\n",
    "import chardet\n",
    "from pprint import pprint"
   ]
  },
  {
   "cell_type": "code",
   "execution_count": 127,
   "metadata": {
    "collapsed": false
   },
   "outputs": [],
   "source": [
    "def decoding(name_json):\n",
    "    with open(name_json, 'rb') as f:\n",
    "        data = f.read()\n",
    "        coding = chardet.detect(data)\n",
    "        with open(name_json, encoding=coding['encoding']) as r:\n",
    "            new_data = json.load(r)\n",
    "            return new_data\n",
    "x = decoding('newsafr.json')"
   ]
  },
  {
   "cell_type": "code",
   "execution_count": 128,
   "metadata": {
    "collapsed": false
   },
   "outputs": [],
   "source": [
    "def get_words():\n",
    "    list2 = []\n",
    "    for data in x['rss']['channel']['items']:\n",
    "        y = data['description']\n",
    "        data2 = y.split()\n",
    "        for data3 in data2:\n",
    "            if len(data3)>6:\n",
    "                list2.append(data3)\n",
    "    return list2\n",
    "words = get_words()"
   ]
  },
  {
   "cell_type": "code",
   "execution_count": 164,
   "metadata": {
    "collapsed": false
   },
   "outputs": [],
   "source": [
    "def all_sorted():\n",
    "    top_words = {}\n",
    "    for name_words in words:\n",
    "        if name_words in top_words:\n",
    "            top_words[name_words] += 1\n",
    "        else:\n",
    "            top_words[name_words] = 1\n",
    "            top = sorted(top_words.items(), key = lambda item: item[1], reverse=True)\n",
    "    return top\n",
    "\n",
    "def top_10():\n",
    "    x = all_sorted() \n",
    "    for i, test in enumerate(x):\n",
    "        if i<10:\n",
    "            print('ТОП {} - слово \"{}\" c частотой упоминания - {}'.format(i+1, test[0], test[1]))"
   ]
  },
  {
   "cell_type": "code",
   "execution_count": null,
   "metadata": {
    "collapsed": true
   },
   "outputs": [],
   "source": []
  }
 ],
 "metadata": {
  "kernelspec": {
   "display_name": "Python 3",
   "language": "python",
   "name": "python3"
  },
  "language_info": {
   "codemirror_mode": {
    "name": "ipython",
    "version": 3
   },
   "file_extension": ".py",
   "mimetype": "text/x-python",
   "name": "python",
   "nbconvert_exporter": "python",
   "pygments_lexer": "ipython3",
   "version": "3.6.0"
  }
 },
 "nbformat": 4,
 "nbformat_minor": 2
}
